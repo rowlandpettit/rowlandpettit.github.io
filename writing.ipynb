{
  "cells": [
    {
      "cell_type": "raw",
      "metadata": {},
      "source": [
        "---\n",
        "title: \"Writing\"\n",
        "---"
      ],
      "id": "bebc34a4"
    },
    {
      "cell_type": "markdown",
      "metadata": {},
      "source": [
        "```{html}\n",
        "<a class=\"twitter-timeline\" data-width=\"500\" data-height=\"800\" data-theme=\"light\" href=\"https://twitter.com/RowlandPettit?ref_src=twsrc%5Etfw\">Tweets by RowlandPettit</a> <script async src=\"https://platform.twitter.com/widgets.js\" charset=\"utf-8\"></script>\n",
        "  \n",
        "\n",
        "<div id=\"substack-feed-embed\"></div>\n",
        "\n",
        "<script>\n",
        "  window.SubstackFeedWidget = {\n",
        "    substackUrl: \"rowlandpettit.substack.com\",\n",
        "    posts: 5\n",
        "  };\n",
        "</script>\n",
        "<script src=\"https://substackapi.com/embeds/feed.js\" async></script>\n",
        "\n",
        "  \n",
        "<iframe src=\"https://rowlandpettit.substack.com/embed\" width=\"480\" height=\"320\" style=\"border:1px solid #EEE; background:white;\" frameborder=\"0\" scrolling=\"no\">\n",
        "</iframe>\n"
      ],
      "id": "ab0db4d0"
    }
  ],
  "metadata": {
    "kernelspec": {
      "name": "python3",
      "language": "python",
      "display_name": "Python 3 (ipykernel)"
    }
  },
  "nbformat": 4,
  "nbformat_minor": 5
}